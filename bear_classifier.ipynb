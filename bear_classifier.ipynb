{
 "cells": [
  {
   "cell_type": "code",
   "execution_count": null,
   "id": "523c71d9-0feb-47c9-8c35-3ca34549eb12",
   "metadata": {},
   "outputs": [],
   "source": [
    "# Bear Classifier App\n",
    "\n",
    "This notebook creates a simple web application that classifies images of bears using a pre-trained FastAI model.\n",
    "\n",
    "# Import necessary libraries\n",
    "from fastai.vision.all import *\n",
    "from fastai.vision.widgets import *\n",
    "\n",
    "# Load the pre-trained model\n",
    "learn = load_learner('/export.pkl')\n",
    "\n",
    "# Create widgets\n",
    "btn_upload = widgets.FileUpload()\n",
    "out_pl = widgets.Output()\n",
    "lbl_pred = widgets.Label()\n",
    "btn_run = widgets.Button(description='Classify')\n",
    "\n",
    "# Cell 4: Define the classification function\n",
    "def on_click_classify(change):\n",
    "    img = PILImage.create(btn_upload.data[-1])\n",
    "    out_pl.clear_output()\n",
    "    with out_pl: display(img.to_thumb(128,128))\n",
    "    pred, pred_idx, probs = learn.predict(img)\n",
    "    lbl_pred.value = f'Prediction: {pred}; Probability: {probs[pred_idx]:.04f}'\n",
    "\n",
    "# Link the button to the classification function\n",
    "btn_run.on_click(on_click_classify)\n",
    "\n",
    "# Create the app layout\n",
    "app = VBox([widgets.Label('Select your bear!'), \n",
    "            btn_upload, \n",
    "            btn_run, \n",
    "            out_pl, \n",
    "            lbl_pred])\n",
    "\n",
    "# Display the app\n",
    "display(app)\n",
    "\n",
    "## How to use:\n",
    "1. Click the \"Choose Files\" button to upload an image of a bear.\n",
    "2. Click the \"Classify\" button to run the model on your image.\n",
    "3. The prediction and its probability will appear below the image."
   ]
  }
 ],
 "metadata": {
  "kernelspec": {
   "display_name": "Python 3 (ipykernel)",
   "language": "python",
   "name": "python3"
  },
  "language_info": {
   "codemirror_mode": {
    "name": "ipython",
    "version": 3
   },
   "file_extension": ".py",
   "mimetype": "text/x-python",
   "name": "python",
   "nbconvert_exporter": "python",
   "pygments_lexer": "ipython3",
   "version": "3.10.2"
  }
 },
 "nbformat": 4,
 "nbformat_minor": 5
}
